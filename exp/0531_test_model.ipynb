{
 "cells": [
  {
   "cell_type": "code",
   "execution_count": 2,
   "metadata": {},
   "outputs": [
    {
     "ename": "ModuleNotFoundError",
     "evalue": "No module named 'cv2'",
     "output_type": "error",
     "traceback": [
      "\u001b[0;31m---------------------------------------------------------------------------\u001b[0m",
      "\u001b[0;31mModuleNotFoundError\u001b[0m                       Traceback (most recent call last)",
      "Cell \u001b[0;32mIn[2], line 7\u001b[0m\n\u001b[1;32m      5\u001b[0m \u001b[38;5;28;01mimport\u001b[39;00m \u001b[38;5;21;01mjson\u001b[39;00m\n\u001b[1;32m      6\u001b[0m \u001b[38;5;28;01mimport\u001b[39;00m \u001b[38;5;21;01mglob\u001b[39;00m\n\u001b[0;32m----> 7\u001b[0m \u001b[38;5;28;01mimport\u001b[39;00m \u001b[38;5;21;01mcv2\u001b[39;00m\n\u001b[1;32m      8\u001b[0m \u001b[38;5;28;01mimport\u001b[39;00m \u001b[38;5;21;01mshutil\u001b[39;00m\n\u001b[1;32m      9\u001b[0m \u001b[38;5;28;01mimport\u001b[39;00m \u001b[38;5;21;01mxml\u001b[39;00m\u001b[38;5;21;01m.\u001b[39;00m\u001b[38;5;21;01metree\u001b[39;00m\u001b[38;5;21;01m.\u001b[39;00m\u001b[38;5;21;01mElementTree\u001b[39;00m \u001b[38;5;28;01mas\u001b[39;00m \u001b[38;5;21;01mET\u001b[39;00m\n",
      "\u001b[0;31mModuleNotFoundError\u001b[0m: No module named 'cv2'"
     ]
    }
   ],
   "source": [
    "import os\n",
    "import xml.dom\n",
    "import numpy as np\n",
    "import codecs\n",
    "import json\n",
    "import glob\n",
    "import cv2\n",
    "import shutil\n",
    "import xml.etree.ElementTree as ET\n",
    "import os\n",
    "import os\n",
    "import random\n",
    "import shutil\n"
   ]
  },
  {
   "cell_type": "code",
   "execution_count": 18,
   "metadata": {},
   "outputs": [],
   "source": [
    "# 修改对应的路径，labelme_path是训练接的路径，saved_path是xml保存路径\n",
    "labelme_path = r\"/Users/max/Documents/06_john_doc/3d_p/3DAnomalyDetect-main/data/frames/spaghetti1/\"  \n",
    "saved_path = r\"/Users/max/Documents/06_john_doc/3d_p/3DAnomalyDetect-main/data/Annotations\" \n",
    "if not os.path.exists(saved_path):\n",
    "    os.makedirs(saved_path)"
   ]
  },
  {
   "cell_type": "code",
   "execution_count": 19,
   "metadata": {},
   "outputs": [
    {
     "data": {
      "text/plain": [
       "['/Users/max/Documents/06_john_doc/3d_p/3DAnomalyDetect-main/data/frames/spaghetti1/frame_0050.json',\n",
       " '/Users/max/Documents/06_john_doc/3d_p/3DAnomalyDetect-main/data/frames/spaghetti1/frame_0115.json']"
      ]
     },
     "execution_count": 19,
     "metadata": {},
     "output_type": "execute_result"
    }
   ],
   "source": [
    "# 2.获取待处理文件\n",
    "files = glob.glob(f\"{labelme_path}/*.json\")\n",
    "files[:2]"
   ]
  },
  {
   "cell_type": "code",
   "execution_count": 20,
   "metadata": {},
   "outputs": [
    {
     "name": "stdout",
     "output_type": "stream",
     "text": [
      "xmlName 名称： /Users/max/Documents/06_john_doc/3d_p/3DAnomalyDetect-main/data/Annotations/frame_0000.xml\n",
      "xmlName 名称： /Users/max/Documents/06_john_doc/3d_p/3DAnomalyDetect-main/data/Annotations/frame_0005.xml\n",
      "xmlName 名称： /Users/max/Documents/06_john_doc/3d_p/3DAnomalyDetect-main/data/Annotations/frame_0010.xml\n",
      "xmlName 名称： /Users/max/Documents/06_john_doc/3d_p/3DAnomalyDetect-main/data/Annotations/frame_0015.xml\n",
      "xmlName 名称： /Users/max/Documents/06_john_doc/3d_p/3DAnomalyDetect-main/data/Annotations/frame_0020.xml\n",
      "xmlName 名称： /Users/max/Documents/06_john_doc/3d_p/3DAnomalyDetect-main/data/Annotations/frame_0025.xml\n",
      "xmlName 名称： /Users/max/Documents/06_john_doc/3d_p/3DAnomalyDetect-main/data/Annotations/frame_0030.xml\n",
      "xmlName 名称： /Users/max/Documents/06_john_doc/3d_p/3DAnomalyDetect-main/data/Annotations/frame_0035.xml\n",
      "xmlName 名称： /Users/max/Documents/06_john_doc/3d_p/3DAnomalyDetect-main/data/Annotations/frame_0040.xml\n",
      "xmlName 名称： /Users/max/Documents/06_john_doc/3d_p/3DAnomalyDetect-main/data/Annotations/frame_0045.xml\n",
      "xmlName 名称： /Users/max/Documents/06_john_doc/3d_p/3DAnomalyDetect-main/data/Annotations/frame_0050.xml\n",
      "xmlName 名称： /Users/max/Documents/06_john_doc/3d_p/3DAnomalyDetect-main/data/Annotations/frame_0055.xml\n",
      "xmlName 名称： /Users/max/Documents/06_john_doc/3d_p/3DAnomalyDetect-main/data/Annotations/frame_0060.xml\n",
      "xmlName 名称： /Users/max/Documents/06_john_doc/3d_p/3DAnomalyDetect-main/data/Annotations/frame_0065.xml\n",
      "xmlName 名称： /Users/max/Documents/06_john_doc/3d_p/3DAnomalyDetect-main/data/Annotations/frame_0070.xml\n",
      "xmlName 名称： /Users/max/Documents/06_john_doc/3d_p/3DAnomalyDetect-main/data/Annotations/frame_0075.xml\n",
      "xmlName 名称： /Users/max/Documents/06_john_doc/3d_p/3DAnomalyDetect-main/data/Annotations/frame_0080.xml\n",
      "xmlName 名称： /Users/max/Documents/06_john_doc/3d_p/3DAnomalyDetect-main/data/Annotations/frame_0085.xml\n",
      "xmlName 名称： /Users/max/Documents/06_john_doc/3d_p/3DAnomalyDetect-main/data/Annotations/frame_0090.xml\n",
      "xmlName 名称： /Users/max/Documents/06_john_doc/3d_p/3DAnomalyDetect-main/data/Annotations/frame_0095.xml\n",
      "xmlName 名称： /Users/max/Documents/06_john_doc/3d_p/3DAnomalyDetect-main/data/Annotations/frame_0100.xml\n",
      "xmlName 名称： /Users/max/Documents/06_john_doc/3d_p/3DAnomalyDetect-main/data/Annotations/frame_0105.xml\n",
      "xmlName 名称： /Users/max/Documents/06_john_doc/3d_p/3DAnomalyDetect-main/data/Annotations/frame_0110.xml\n",
      "xmlName 名称： /Users/max/Documents/06_john_doc/3d_p/3DAnomalyDetect-main/data/Annotations/frame_0115.xml\n",
      "xmlName 名称： /Users/max/Documents/06_john_doc/3d_p/3DAnomalyDetect-main/data/Annotations/frame_0120.xml\n",
      "xmlName 名称： /Users/max/Documents/06_john_doc/3d_p/3DAnomalyDetect-main/data/Annotations/frame_0125.xml\n",
      "xmlName 名称： /Users/max/Documents/06_john_doc/3d_p/3DAnomalyDetect-main/data/Annotations/frame_0130.xml\n",
      "xmlName 名称： /Users/max/Documents/06_john_doc/3d_p/3DAnomalyDetect-main/data/Annotations/frame_0135.xml\n",
      "xmlName 名称： /Users/max/Documents/06_john_doc/3d_p/3DAnomalyDetect-main/data/Annotations/frame_0140.xml\n",
      "xmlName 名称： /Users/max/Documents/06_john_doc/3d_p/3DAnomalyDetect-main/data/Annotations/frame_0145.xml\n",
      "xmlName 名称： /Users/max/Documents/06_john_doc/3d_p/3DAnomalyDetect-main/data/Annotations/frame_0150.xml\n",
      "xmlName 名称： /Users/max/Documents/06_john_doc/3d_p/3DAnomalyDetect-main/data/Annotations/frame_0155.xml\n",
      "xmlName 名称： /Users/max/Documents/06_john_doc/3d_p/3DAnomalyDetect-main/data/Annotations/frame_0160.xml\n",
      "xmlName 名称： /Users/max/Documents/06_john_doc/3d_p/3DAnomalyDetect-main/data/Annotations/frame_0165.xml\n",
      "xmlName 名称： /Users/max/Documents/06_john_doc/3d_p/3DAnomalyDetect-main/data/Annotations/frame_0170.xml\n",
      "xmlName 名称： /Users/max/Documents/06_john_doc/3d_p/3DAnomalyDetect-main/data/Annotations/frame_0175.xml\n",
      "xmlName 名称： /Users/max/Documents/06_john_doc/3d_p/3DAnomalyDetect-main/data/Annotations/frame_0180.xml\n",
      "xmlName 名称： /Users/max/Documents/06_john_doc/3d_p/3DAnomalyDetect-main/data/Annotations/frame_0185.xml\n",
      "xmlName 名称： /Users/max/Documents/06_john_doc/3d_p/3DAnomalyDetect-main/data/Annotations/frame_0190.xml\n",
      "xmlName 名称： /Users/max/Documents/06_john_doc/3d_p/3DAnomalyDetect-main/data/Annotations/frame_0195.xml\n",
      "xmlName 名称： /Users/max/Documents/06_john_doc/3d_p/3DAnomalyDetect-main/data/Annotations/frame_0200.xml\n",
      "xmlName 名称： /Users/max/Documents/06_john_doc/3d_p/3DAnomalyDetect-main/data/Annotations/frame_0205.xml\n",
      "xmlName 名称： /Users/max/Documents/06_john_doc/3d_p/3DAnomalyDetect-main/data/Annotations/frame_0210.xml\n",
      "xmlName 名称： /Users/max/Documents/06_john_doc/3d_p/3DAnomalyDetect-main/data/Annotations/frame_0215.xml\n",
      "xmlName 名称： /Users/max/Documents/06_john_doc/3d_p/3DAnomalyDetect-main/data/Annotations/frame_0220.xml\n",
      "xmlName 名称： /Users/max/Documents/06_john_doc/3d_p/3DAnomalyDetect-main/data/Annotations/frame_0225.xml\n",
      "xmlName 名称： /Users/max/Documents/06_john_doc/3d_p/3DAnomalyDetect-main/data/Annotations/frame_0230.xml\n",
      "xmlName 名称： /Users/max/Documents/06_john_doc/3d_p/3DAnomalyDetect-main/data/Annotations/frame_0235.xml\n",
      "xmlName 名称： /Users/max/Documents/06_john_doc/3d_p/3DAnomalyDetect-main/data/Annotations/frame_0240.xml\n",
      "xmlName 名称： /Users/max/Documents/06_john_doc/3d_p/3DAnomalyDetect-main/data/Annotations/frame_0245.xml\n",
      "xmlName 名称： /Users/max/Documents/06_john_doc/3d_p/3DAnomalyDetect-main/data/Annotations/frame_0250.xml\n",
      "xmlName 名称： /Users/max/Documents/06_john_doc/3d_p/3DAnomalyDetect-main/data/Annotations/frame_0255.xml\n",
      "xmlName 名称： /Users/max/Documents/06_john_doc/3d_p/3DAnomalyDetect-main/data/Annotations/frame_0260.xml\n",
      "xmlName 名称： /Users/max/Documents/06_john_doc/3d_p/3DAnomalyDetect-main/data/Annotations/frame_0265.xml\n",
      "xmlName 名称： /Users/max/Documents/06_john_doc/3d_p/3DAnomalyDetect-main/data/Annotations/frame_0270.xml\n",
      "xmlName 名称： /Users/max/Documents/06_john_doc/3d_p/3DAnomalyDetect-main/data/Annotations/frame_0275.xml\n",
      "xmlName 名称： /Users/max/Documents/06_john_doc/3d_p/3DAnomalyDetect-main/data/Annotations/frame_0280.xml\n",
      "xmlName 名称： /Users/max/Documents/06_john_doc/3d_p/3DAnomalyDetect-main/data/Annotations/frame_0285.xml\n",
      "xmlName 名称： /Users/max/Documents/06_john_doc/3d_p/3DAnomalyDetect-main/data/Annotations/frame_0290.xml\n",
      "xmlName 名称： /Users/max/Documents/06_john_doc/3d_p/3DAnomalyDetect-main/data/Annotations/frame_0295.xml\n"
     ]
    }
   ],
   "source": [
    "\n",
    "# 3.读取标注信息并写入 xml\n",
    "for json_filename in sorted(files[:]):\n",
    "    json_file = json.load(open(json_filename, \"r\", encoding=\"utf-8\"))\n",
    "    i = 0\n",
    "    # 图像名字，若图像格式不是bmp，需要修改此处\n",
    "    img_name = json_filename.replace(\".json\", \".jpg\")\n",
    "    height, width, channels = cv2.imread(img_name).shape\n",
    "    # xml名字\n",
    "    xmlName = os.path.join(saved_path, json_filename.split(\"/\")[-1].replace(\".json\", \".xml\"))\n",
    "    print(f\"\"\"xmlName 名称： {xmlName}\"\"\")\n",
    "    with codecs.open(xmlName, \"w\", \"utf-8\") as xml:\n",
    "        # print(2)\n",
    "        xml.write('<annotation>\\n')\n",
    "        xml.write('\\t<folder>' + 'jpg' + '</folder>\\n')\n",
    "        xml.write('\\t<filename>' + img_name + '</filename>\\n')\n",
    "        # -------------------------------------------------\n",
    "        xml.write('\\t<source>\\n')\n",
    "        xml.write('\\t\\t<database>hulan</database>\\n')\n",
    " \n",
    "        # --------------------------------------------------\n",
    "        xml.write('\\t</source>\\n')\n",
    "        # -----------------------------------------------------------\n",
    "        xml.write('\\t<size>\\n')\n",
    "        xml.write('\\t\\t<width>' + str(width) + '</width>\\n')\n",
    "        xml.write('\\t\\t<height>' + str(height) + '</height>\\n')\n",
    "        xml.write('\\t\\t<depth>' + str(channels) + '</depth>\\n')\n",
    "        # ------------------------------------------------\n",
    "        xml.write('\\t</size>\\n')\n",
    "        xml.write('\\t\\t<segmented>0</segmented>\\n')\n",
    " \n",
    "        # 节点判断\n",
    "        for multi in json_file[\"shapes\"]:\n",
    "            points = np.array(multi[\"points\"])\n",
    "            xmin = min(points[:, 0])\n",
    "            xmax = max(points[:, 0])\n",
    "            ymin = min(points[:, 1])\n",
    "            ymax = max(points[:, 1])\n",
    "            label = multi[\"label\"]\n",
    "            if xmax <= xmin:\n",
    "                pass\n",
    "            elif ymax <= ymin:\n",
    "                pass\n",
    "            else:\n",
    "                xml.write('\\t<object>\\n')\n",
    "                xml.write('\\t\\t<name>' + json_file[\"shapes\"][i][\"label\"] + '</name>\\n')\n",
    "                xml.write('\\t\\t<pose>Unspecified</pose>\\n')\n",
    "                xml.write('\\t\\t<truncated>0</truncated>\\n')\n",
    "                xml.write('\\t\\t<difficult>0</difficult>\\n')\n",
    "                xml.write('\\t\\t<bndbox>\\n')\n",
    "                xml.write('\\t\\t\\t<xmin>' + str(xmin) + '</xmin>\\n')\n",
    "                xml.write('\\t\\t\\t<ymin>' + str(ymin) + '</ymin>\\n')\n",
    "                xml.write('\\t\\t\\t<xmax>' + str(xmax) + '</xmax>\\n')\n",
    "                xml.write('\\t\\t\\t<ymax>' + str(ymax) + '</ymax>\\n')\n",
    "                xml.write('\\t\\t</bndbox>\\n')\n",
    "                xml.write('\\t</object>\\n')\n",
    "                # print(json_filename, xmin, ymin, xmax, ymax, label)\n",
    "                i = i + 1\n",
    "        xml.write('</annotation>')\n"
   ]
  },
  {
   "cell_type": "code",
   "execution_count": 21,
   "metadata": {},
   "outputs": [
    {
     "data": {
      "text/plain": [
       "['/Users/max/Documents/06_john_doc/3d_p/3DAnomalyDetect-main/data/Annotations/frame_0000.xml',\n",
       " '/Users/max/Documents/06_john_doc/3d_p/3DAnomalyDetect-main/data/Annotations/frame_0005.xml',\n",
       " '/Users/max/Documents/06_john_doc/3d_p/3DAnomalyDetect-main/data/Annotations/frame_0010.xml',\n",
       " '/Users/max/Documents/06_john_doc/3d_p/3DAnomalyDetect-main/data/Annotations/frame_0015.xml',\n",
       " '/Users/max/Documents/06_john_doc/3d_p/3DAnomalyDetect-main/data/Annotations/frame_0020.xml']"
      ]
     },
     "execution_count": 21,
     "metadata": {},
     "output_type": "execute_result"
    }
   ],
   "source": [
    "import xml.dom.minidom as xmldom\n",
    "import os\n",
    " \n",
    "# voc数据集获取所有标签的所有类别数\"\n",
    "annotation_path = saved_path #需要根据实际路径更改\n",
    " \n",
    "annotation_names = sorted([os.path.join(annotation_path, i) for i in os.listdir(annotation_path) if 'xml' in i])\n",
    "annotation_names[:5]"
   ]
  },
  {
   "cell_type": "code",
   "execution_count": 22,
   "metadata": {},
   "outputs": [
    {
     "name": "stdout",
     "output_type": "stream",
     "text": [
      "xmlfilepath: /Users/max/Documents/06_john_doc/3d_p/3DAnomalyDetect-main/data/Annotations/frame_0000.xml\n",
      "xmlfilepath: /Users/max/Documents/06_john_doc/3d_p/3DAnomalyDetect-main/data/Annotations/frame_0005.xml\n",
      "xmlfilepath: /Users/max/Documents/06_john_doc/3d_p/3DAnomalyDetect-main/data/Annotations/frame_0010.xml\n",
      "xmlfilepath: /Users/max/Documents/06_john_doc/3d_p/3DAnomalyDetect-main/data/Annotations/frame_0015.xml\n",
      "xmlfilepath: /Users/max/Documents/06_john_doc/3d_p/3DAnomalyDetect-main/data/Annotations/frame_0020.xml\n",
      "xmlfilepath: /Users/max/Documents/06_john_doc/3d_p/3DAnomalyDetect-main/data/Annotations/frame_0025.xml\n",
      "xmlfilepath: /Users/max/Documents/06_john_doc/3d_p/3DAnomalyDetect-main/data/Annotations/frame_0030.xml\n",
      "xmlfilepath: /Users/max/Documents/06_john_doc/3d_p/3DAnomalyDetect-main/data/Annotations/frame_0035.xml\n",
      "xmlfilepath: /Users/max/Documents/06_john_doc/3d_p/3DAnomalyDetect-main/data/Annotations/frame_0040.xml\n",
      "xmlfilepath: /Users/max/Documents/06_john_doc/3d_p/3DAnomalyDetect-main/data/Annotations/frame_0045.xml\n",
      "xmlfilepath: /Users/max/Documents/06_john_doc/3d_p/3DAnomalyDetect-main/data/Annotations/frame_0050.xml\n",
      "xmlfilepath: /Users/max/Documents/06_john_doc/3d_p/3DAnomalyDetect-main/data/Annotations/frame_0055.xml\n",
      "xmlfilepath: /Users/max/Documents/06_john_doc/3d_p/3DAnomalyDetect-main/data/Annotations/frame_0060.xml\n",
      "xmlfilepath: /Users/max/Documents/06_john_doc/3d_p/3DAnomalyDetect-main/data/Annotations/frame_0065.xml\n",
      "xmlfilepath: /Users/max/Documents/06_john_doc/3d_p/3DAnomalyDetect-main/data/Annotations/frame_0070.xml\n",
      "xmlfilepath: /Users/max/Documents/06_john_doc/3d_p/3DAnomalyDetect-main/data/Annotations/frame_0075.xml\n",
      "xmlfilepath: /Users/max/Documents/06_john_doc/3d_p/3DAnomalyDetect-main/data/Annotations/frame_0080.xml\n",
      "xmlfilepath: /Users/max/Documents/06_john_doc/3d_p/3DAnomalyDetect-main/data/Annotations/frame_0085.xml\n",
      "xmlfilepath: /Users/max/Documents/06_john_doc/3d_p/3DAnomalyDetect-main/data/Annotations/frame_0090.xml\n",
      "xmlfilepath: /Users/max/Documents/06_john_doc/3d_p/3DAnomalyDetect-main/data/Annotations/frame_0095.xml\n",
      "xmlfilepath: /Users/max/Documents/06_john_doc/3d_p/3DAnomalyDetect-main/data/Annotations/frame_0100.xml\n",
      "xmlfilepath: /Users/max/Documents/06_john_doc/3d_p/3DAnomalyDetect-main/data/Annotations/frame_0105.xml\n",
      "xmlfilepath: /Users/max/Documents/06_john_doc/3d_p/3DAnomalyDetect-main/data/Annotations/frame_0110.xml\n",
      "xmlfilepath: /Users/max/Documents/06_john_doc/3d_p/3DAnomalyDetect-main/data/Annotations/frame_0115.xml\n",
      "xmlfilepath: /Users/max/Documents/06_john_doc/3d_p/3DAnomalyDetect-main/data/Annotations/frame_0120.xml\n",
      "xmlfilepath: /Users/max/Documents/06_john_doc/3d_p/3DAnomalyDetect-main/data/Annotations/frame_0125.xml\n",
      "xmlfilepath: /Users/max/Documents/06_john_doc/3d_p/3DAnomalyDetect-main/data/Annotations/frame_0130.xml\n",
      "xmlfilepath: /Users/max/Documents/06_john_doc/3d_p/3DAnomalyDetect-main/data/Annotations/frame_0135.xml\n",
      "xmlfilepath: /Users/max/Documents/06_john_doc/3d_p/3DAnomalyDetect-main/data/Annotations/frame_0140.xml\n",
      "xmlfilepath: /Users/max/Documents/06_john_doc/3d_p/3DAnomalyDetect-main/data/Annotations/frame_0145.xml\n",
      "xmlfilepath: /Users/max/Documents/06_john_doc/3d_p/3DAnomalyDetect-main/data/Annotations/frame_0150.xml\n",
      "xmlfilepath: /Users/max/Documents/06_john_doc/3d_p/3DAnomalyDetect-main/data/Annotations/frame_0155.xml\n",
      "xmlfilepath: /Users/max/Documents/06_john_doc/3d_p/3DAnomalyDetect-main/data/Annotations/frame_0160.xml\n",
      "xmlfilepath: /Users/max/Documents/06_john_doc/3d_p/3DAnomalyDetect-main/data/Annotations/frame_0165.xml\n",
      "xmlfilepath: /Users/max/Documents/06_john_doc/3d_p/3DAnomalyDetect-main/data/Annotations/frame_0170.xml\n",
      "xmlfilepath: /Users/max/Documents/06_john_doc/3d_p/3DAnomalyDetect-main/data/Annotations/frame_0175.xml\n",
      "xmlfilepath: /Users/max/Documents/06_john_doc/3d_p/3DAnomalyDetect-main/data/Annotations/frame_0180.xml\n",
      "xmlfilepath: /Users/max/Documents/06_john_doc/3d_p/3DAnomalyDetect-main/data/Annotations/frame_0185.xml\n",
      "xmlfilepath: /Users/max/Documents/06_john_doc/3d_p/3DAnomalyDetect-main/data/Annotations/frame_0190.xml\n",
      "xmlfilepath: /Users/max/Documents/06_john_doc/3d_p/3DAnomalyDetect-main/data/Annotations/frame_0195.xml\n",
      "xmlfilepath: /Users/max/Documents/06_john_doc/3d_p/3DAnomalyDetect-main/data/Annotations/frame_0200.xml\n",
      "xmlfilepath: /Users/max/Documents/06_john_doc/3d_p/3DAnomalyDetect-main/data/Annotations/frame_0205.xml\n",
      "xmlfilepath: /Users/max/Documents/06_john_doc/3d_p/3DAnomalyDetect-main/data/Annotations/frame_0210.xml\n",
      "xmlfilepath: /Users/max/Documents/06_john_doc/3d_p/3DAnomalyDetect-main/data/Annotations/frame_0215.xml\n",
      "xmlfilepath: /Users/max/Documents/06_john_doc/3d_p/3DAnomalyDetect-main/data/Annotations/frame_0220.xml\n",
      "xmlfilepath: /Users/max/Documents/06_john_doc/3d_p/3DAnomalyDetect-main/data/Annotations/frame_0225.xml\n",
      "xmlfilepath: /Users/max/Documents/06_john_doc/3d_p/3DAnomalyDetect-main/data/Annotations/frame_0230.xml\n",
      "xmlfilepath: /Users/max/Documents/06_john_doc/3d_p/3DAnomalyDetect-main/data/Annotations/frame_0235.xml\n",
      "xmlfilepath: /Users/max/Documents/06_john_doc/3d_p/3DAnomalyDetect-main/data/Annotations/frame_0240.xml\n",
      "xmlfilepath: /Users/max/Documents/06_john_doc/3d_p/3DAnomalyDetect-main/data/Annotations/frame_0245.xml\n",
      "xmlfilepath: /Users/max/Documents/06_john_doc/3d_p/3DAnomalyDetect-main/data/Annotations/frame_0250.xml\n",
      "xmlfilepath: /Users/max/Documents/06_john_doc/3d_p/3DAnomalyDetect-main/data/Annotations/frame_0255.xml\n",
      "xmlfilepath: /Users/max/Documents/06_john_doc/3d_p/3DAnomalyDetect-main/data/Annotations/frame_0260.xml\n",
      "xmlfilepath: /Users/max/Documents/06_john_doc/3d_p/3DAnomalyDetect-main/data/Annotations/frame_0265.xml\n",
      "xmlfilepath: /Users/max/Documents/06_john_doc/3d_p/3DAnomalyDetect-main/data/Annotations/frame_0270.xml\n",
      "xmlfilepath: /Users/max/Documents/06_john_doc/3d_p/3DAnomalyDetect-main/data/Annotations/frame_0275.xml\n",
      "xmlfilepath: /Users/max/Documents/06_john_doc/3d_p/3DAnomalyDetect-main/data/Annotations/frame_0280.xml\n",
      "xmlfilepath: /Users/max/Documents/06_john_doc/3d_p/3DAnomalyDetect-main/data/Annotations/frame_0285.xml\n",
      "xmlfilepath: /Users/max/Documents/06_john_doc/3d_p/3DAnomalyDetect-main/data/Annotations/frame_0290.xml\n",
      "xmlfilepath: /Users/max/Documents/06_john_doc/3d_p/3DAnomalyDetect-main/data/Annotations/frame_0295.xml\n",
      "['normal', 'spaghetti', 'possible-spaghetti']\n"
     ]
    }
   ],
   "source": [
    "\n",
    "labels = list()\n",
    "for names in annotation_names:\n",
    "    xmlfilepath = names\n",
    "    print(f\"xmlfilepath: {xmlfilepath}\")\n",
    "    domobj = xmldom.parse(xmlfilepath)\n",
    "    # 得到元素对象\n",
    "    elementobj = domobj.documentElement\n",
    "    # 获得子标签\n",
    "    subElementObj = elementobj.getElementsByTagName(\"object\")\n",
    "    for s in subElementObj:\n",
    "        label = s.getElementsByTagName(\"name\")[0].firstChild.data\n",
    "        # print(label)\n",
    "        if label not in labels:\n",
    "            labels.append(label)\n",
    "print(labels)"
   ]
  },
  {
   "cell_type": "code",
   "execution_count": 23,
   "metadata": {},
   "outputs": [],
   "source": [
    "classes = ['normal', 'spaghetti', 'possible-spaghetti']  # 类别\n",
    "# CURRENT_DIR = os.path.dirname(os.path.abspath(__file__))\n",
    "# CURRENT_DIR = '/Users/max/Documents/06_john_doc/3d_p/3DAnomalyDetect-main/utils'\n",
    " \n",
    "def convert(size, box):\n",
    "    dw = 1. / size[0]\n",
    "    dh = 1. / size[1]\n",
    "    x = (box[0] + box[1]) / 2.0    # (x_min + x_max) / 2.0\n",
    "    y = (box[2] + box[3]) / 2.0    # (y_min + y_max) / 2.0\n",
    "    w = box[1] - box[0]   # x_max - x_min\n",
    "    h = box[3] - box[2]   # y_max - y_min\n",
    "    x = x * dw\n",
    "    w = w * dw\n",
    "    y = y * dh\n",
    "    h = h * dh\n",
    "    return (x, y, w, h)"
   ]
  },
  {
   "cell_type": "code",
   "execution_count": 24,
   "metadata": {},
   "outputs": [
    {
     "name": "stdout",
     "output_type": "stream",
     "text": [
      "frame_0000\n",
      "frame_0160\n",
      "frame_0175\n",
      "frame_0015\n",
      "frame_0215\n",
      "frame_0200\n",
      "frame_0210\n",
      "frame_0205\n",
      "frame_0005\n",
      "frame_0165\n",
      "frame_0170\n",
      "frame_0010\n",
      "frame_0275\n",
      "frame_0260\n",
      "frame_0060\n",
      "frame_0100\n",
      "frame_0115\n",
      "frame_0075\n",
      "frame_0065\n",
      "frame_0105\n",
      "frame_0110\n",
      "frame_0070\n",
      "frame_0270\n",
      "frame_0265\n",
      "frame_0095\n",
      "frame_0240\n",
      "frame_0255\n",
      "frame_0080\n",
      "frame_0055\n",
      "frame_0280\n",
      "frame_0135\n",
      "frame_0120\n",
      "frame_0295\n",
      "frame_0040\n",
      "frame_0050\n",
      "frame_0285\n",
      "frame_0130\n",
      "frame_0125\n",
      "frame_0290\n",
      "frame_0045\n",
      "frame_0090\n",
      "frame_0245\n",
      "frame_0250\n",
      "frame_0085\n",
      "frame_0035\n",
      "frame_0155\n",
      "frame_0140\n",
      "frame_0020\n",
      "frame_0220\n",
      "frame_0195\n",
      "frame_0180\n",
      "frame_0235\n",
      "frame_0225\n",
      "frame_0190\n",
      "frame_0185\n",
      "frame_0230\n",
      "frame_0030\n",
      "frame_0150\n",
      "frame_0145\n",
      "frame_0025\n"
     ]
    }
   ],
   "source": [
    "\n",
    "def convert_annotation(image_id):\n",
    "    in_file = open(f'{saved_path}/{image_id}.xml', encoding='UTF-8')\n",
    " \n",
    "    out_file = open(f'{labelme_path}/{image_id}.txt', 'w')  # 生成txt格式文件\n",
    "    tree = ET.parse(in_file)\n",
    "    root = tree.getroot()\n",
    "    size = root.find('size')\n",
    "    w = int(size.find('width').text)\n",
    "    h = int(size.find('height').text)\n",
    " \n",
    "    for obj in root.iter('object'):\n",
    "        cls = obj.find('name').text\n",
    "        # print(cls)\n",
    "        if cls not in classes:\n",
    "            continue\n",
    "        cls_id = classes.index(cls)\n",
    "        xmlbox = obj.find('bndbox')\n",
    "        b = (float(xmlbox.find('xmin').text), float(xmlbox.find('xmax').text), float(xmlbox.find('ymin').text),\n",
    "             float(xmlbox.find('ymax').text))\n",
    "        bb = convert((w, h), b)\n",
    "        out_file.write(str(cls_id) + \" \" + \" \".join([str(a) for a in bb]) + '\\n')\n",
    "\n",
    "xml_path = saved_path\n",
    " \n",
    "# xml list\n",
    "img_xmls = os.listdir(xml_path)\n",
    "for img_xml in img_xmls:\n",
    "    label_name = img_xml.split('.')[0]\n",
    "    print(label_name)\n",
    "    convert_annotation(label_name)"
   ]
  },
  {
   "cell_type": "code",
   "execution_count": 25,
   "metadata": {},
   "outputs": [
    {
     "name": "stdout",
     "output_type": "stream",
     "text": [
      "数据集分离完成！\n",
      "训练集数量：42\n",
      "验证集数量：12\n",
      "./datasets/train文件移动完成！\n",
      "总共移动了 42 个PNG文件到images文件夹\n",
      "总共移动了 42 个TXT文件到labels文件夹\n",
      "./datasets/val文件移动完成！\n",
      "总共移动了 12 个PNG文件到images文件夹\n",
      "总共移动了 12 个TXT文件到labels文件夹\n",
      "./datasets/test文件移动完成！\n",
      "总共移动了 6 个PNG文件到images文件夹\n",
      "总共移动了 6 个TXT文件到labels文件夹\n"
     ]
    }
   ],
   "source": [
    "def split_dataset(data_dir,train_val_test_dir, train_ratio, val_ratio, test_ratio):\n",
    "    # 创建目标文件夹\n",
    "    train_dir = os.path.join(train_val_test_dir, 'train')\n",
    "    val_dir = os.path.join(train_val_test_dir, 'val')\n",
    "    test_dir = os.path.join(train_val_test_dir, 'test')\n",
    "    os.makedirs(train_dir, exist_ok=True)\n",
    "    os.makedirs(val_dir, exist_ok=True)\n",
    "    os.makedirs(test_dir, exist_ok=True)\n",
    " \n",
    "    # 获取数据集中的所有文件\n",
    "    files = os.listdir(data_dir)\n",
    " \n",
    "    # 筛选图片文件\n",
    "    image_files = [f for f in files if f.endswith('.jpg') or f.endswith('.png')]\n",
    "    # 随机打乱文件列表\n",
    "    random.shuffle(image_files)\n",
    " \n",
    "    # 计算切分数据集的索引\n",
    "    num_files = len(image_files)\n",
    "    num_train = int(num_files * train_ratio)\n",
    "    num_val = int(num_files * val_ratio)\n",
    "    num_test = num_files - num_train - num_val\n",
    " \n",
    "    # 分离训练集\n",
    "    train_files = image_files[:num_train]\n",
    "    for file in train_files:\n",
    "        src_image_path = os.path.join(data_dir, file)\n",
    "        src_label_path = os.path.join(data_dir, file.replace('.jpg', '.txt').replace('.png', '.txt'))\n",
    "        dst_image_path = os.path.join(train_dir, file)\n",
    "        dst_label_path = os.path.join(train_dir, file.replace('.jpg', '.txt').replace('.png', '.txt'))\n",
    "        shutil.copy(src_image_path, dst_image_path)\n",
    "        shutil.copy(src_label_path, dst_label_path)\n",
    " \n",
    "    # 分离验证集\n",
    "    val_files = image_files[num_train:num_train+num_val]\n",
    "    for file in val_files:\n",
    "        src_image_path = os.path.join(data_dir, file)\n",
    "        src_label_path = os.path.join(data_dir, file.replace('.jpg', '.txt').replace('.png', '.txt'))\n",
    "        dst_image_path = os.path.join(val_dir, file)\n",
    "        dst_label_path = os.path.join(val_dir, file.replace('.jpg', '.txt').replace('.png', '.txt'))\n",
    "        shutil.copy(src_image_path, dst_image_path)\n",
    "        shutil.copy(src_label_path, dst_label_path)\n",
    " \n",
    "    # 分离测试集\n",
    "    test_files = image_files[num_train+num_val:]\n",
    "    for file in test_files:\n",
    "        src_image_path = os.path.join(data_dir, file)\n",
    "        src_label_path = os.path.join(data_dir, file.replace('.jpg', '.txt').replace('.png', '.txt'))\n",
    "        dst_image_path = os.path.join(test_dir, file)\n",
    "        dst_label_path = os.path.join(test_dir, file.replace('.jpg', '.txt').replace('.png', '.txt'))\n",
    "        shutil.copy(src_image_path, dst_image_path)\n",
    "        shutil.copy(src_label_path, dst_label_path)\n",
    " \n",
    "    print(\"数据集分离完成！\")\n",
    "    print(f\"训练集数量：{len(train_files)}\")\n",
    "    print(f\"验证集数量：{len(val_files)}\")\n",
    "    # print(f\"测试集数量：{len(test_files)}\")\n",
    " \n",
    "def move_files(data_dir):\n",
    "    # 创建目标文件夹\n",
    "    images_dir = os.path.join(data_dir, 'images')\n",
    "    labels_dir = os.path.join(data_dir, 'labels')\n",
    "    os.makedirs(images_dir, exist_ok=True)\n",
    "    os.makedirs(labels_dir, exist_ok=True)\n",
    " \n",
    "    # 获取数据集中的所有文件\n",
    "    files = os.listdir(data_dir)\n",
    " \n",
    "    # 移动PNG文件到images文件夹\n",
    "    png_files = [f for f in files if f.endswith('.jpg')]\n",
    "    for file in png_files:\n",
    "        src_path = os.path.join(data_dir, file)\n",
    "        dst_path = os.path.join(images_dir, file)\n",
    "        shutil.move(src_path, dst_path)\n",
    " \n",
    "    # 移动TXT文件到labels文件夹\n",
    "    txt_files = [f for f in files if f.endswith('.txt')]\n",
    "    for file in txt_files:\n",
    "        src_path = os.path.join(data_dir, file)\n",
    "        dst_path = os.path.join(labels_dir, file)\n",
    "        shutil.move(src_path, dst_path)\n",
    " \n",
    "    print(f\"{data_dir}文件移动完成！\")\n",
    "    print(f\"总共移动了 {len(png_files)} 个PNG文件到images文件夹\")\n",
    "    print(f\"总共移动了 {len(txt_files)} 个TXT文件到labels文件夹\")\n",
    " \n",
    " \n",
    "# 设置数据集路径和切分比例\n",
    "# data_dir = './data/images'      # 图片和标签路径\n",
    "data_dir = labelme_path      # 图片和标签路径\n",
    "train_val_test_dir= './datasets'    # 目标文件夹\n",
    "train_ratio = 0.7               # 训练集比例\n",
    "val_ratio = 0.2                 # 验证集比例\n",
    "test_ratio = 0.1                # 测试集比例\n",
    " \n",
    "# 调用函数分离数据集\n",
    "split_dataset(data_dir, train_val_test_dir,train_ratio, val_ratio, 0)\n",
    "# 调用函数移动文件\n",
    "move_files(os.path.join(train_val_test_dir, 'train'))\n",
    "move_files(os.path.join(train_val_test_dir, 'val'))\n",
    "move_files(os.path.join(train_val_test_dir, 'test'))\n"
   ]
  },
  {
   "cell_type": "code",
   "execution_count": 1,
   "metadata": {},
   "outputs": [
    {
     "ename": "ModuleNotFoundError",
     "evalue": "No module named 'ultralytics'",
     "output_type": "error",
     "traceback": [
      "\u001b[0;31m---------------------------------------------------------------------------\u001b[0m",
      "\u001b[0;31mModuleNotFoundError\u001b[0m                       Traceback (most recent call last)",
      "Cell \u001b[0;32mIn[1], line 1\u001b[0m\n\u001b[0;32m----> 1\u001b[0m \u001b[38;5;28;01mfrom\u001b[39;00m \u001b[38;5;21;01multralytics\u001b[39;00m \u001b[38;5;28;01mimport\u001b[39;00m YOLO\n\u001b[1;32m      3\u001b[0m \u001b[38;5;66;03m# Load a model\u001b[39;00m\n\u001b[1;32m      4\u001b[0m model \u001b[38;5;241m=\u001b[39m YOLO(\u001b[38;5;124m'\u001b[39m\u001b[38;5;124myolov8n.yaml\u001b[39m\u001b[38;5;124m'\u001b[39m)  \u001b[38;5;66;03m# build a new model from scratch\u001b[39;00m\n",
      "\u001b[0;31mModuleNotFoundError\u001b[0m: No module named 'ultralytics'"
     ]
    }
   ],
   "source": [
    "from ultralytics import YOLO\n",
    "\n",
    "# Load a model\n",
    "model = YOLO('yolov8n.yaml')  # build a new model from scratch\n",
    "# 下载模型\n",
    "model = YOLO('yolov8n.pt')  # load a pretrained model (recommended for training)\n"
   ]
  },
  {
   "cell_type": "code",
   "execution_count": 28,
   "metadata": {},
   "outputs": [
    {
     "name": "stdout",
     "output_type": "stream",
     "text": [
      "New https://pypi.org/project/ultralytics/8.2.26 available 😃 Update with 'pip install -U ultralytics'\n",
      "Ultralytics YOLOv8.2.25 🚀 Python-3.9.19 torch-2.3.0 CPU (Apple M2)\n",
      "\u001b[34m\u001b[1mengine/trainer: \u001b[0mtask=detect, mode=train, model=yolov8n.pt, data=./datasets/mydata.yaml, epochs=3, time=None, patience=100, batch=16, imgsz=640, save=True, save_period=-1, cache=False, device=None, workers=8, project=None, name=train, exist_ok=False, pretrained=True, optimizer=auto, verbose=True, seed=0, deterministic=True, single_cls=False, rect=False, cos_lr=False, close_mosaic=10, resume=False, amp=True, fraction=1.0, profile=False, freeze=None, multi_scale=False, overlap_mask=True, mask_ratio=4, dropout=0.0, val=True, split=val, save_json=False, save_hybrid=False, conf=None, iou=0.7, max_det=300, half=False, dnn=False, plots=True, source=None, vid_stride=1, stream_buffer=False, visualize=False, augment=False, agnostic_nms=False, classes=None, retina_masks=False, embed=None, show=False, save_frames=False, save_txt=False, save_conf=False, save_crop=False, show_labels=True, show_conf=True, show_boxes=True, line_width=None, format=torchscript, keras=False, optimize=False, int8=False, dynamic=False, simplify=False, opset=None, workspace=4, nms=False, lr0=0.01, lrf=0.01, momentum=0.937, weight_decay=0.0005, warmup_epochs=3.0, warmup_momentum=0.8, warmup_bias_lr=0.1, box=7.5, cls=0.5, dfl=1.5, pose=12.0, kobj=1.0, label_smoothing=0.0, nbs=64, hsv_h=0.015, hsv_s=0.7, hsv_v=0.4, degrees=0.0, translate=0.1, scale=0.5, shear=0.0, perspective=0.0, flipud=0.0, fliplr=0.5, bgr=0.0, mosaic=1.0, mixup=0.0, copy_paste=0.0, auto_augment=randaugment, erasing=0.4, crop_fraction=1.0, cfg=None, tracker=botsort.yaml, save_dir=runs/detect/train\n",
      "Overriding model.yaml nc=80 with nc=3\n",
      "\n",
      "                   from  n    params  module                                       arguments                     \n",
      "  0                  -1  1       464  ultralytics.nn.modules.conv.Conv             [3, 16, 3, 2]                 \n",
      "  1                  -1  1      4672  ultralytics.nn.modules.conv.Conv             [16, 32, 3, 2]                \n",
      "  2                  -1  1      7360  ultralytics.nn.modules.block.C2f             [32, 32, 1, True]             \n",
      "  3                  -1  1     18560  ultralytics.nn.modules.conv.Conv             [32, 64, 3, 2]                \n",
      "  4                  -1  2     49664  ultralytics.nn.modules.block.C2f             [64, 64, 2, True]             \n",
      "  5                  -1  1     73984  ultralytics.nn.modules.conv.Conv             [64, 128, 3, 2]               \n",
      "  6                  -1  2    197632  ultralytics.nn.modules.block.C2f             [128, 128, 2, True]           \n",
      "  7                  -1  1    295424  ultralytics.nn.modules.conv.Conv             [128, 256, 3, 2]              \n",
      "  8                  -1  1    460288  ultralytics.nn.modules.block.C2f             [256, 256, 1, True]           \n",
      "  9                  -1  1    164608  ultralytics.nn.modules.block.SPPF            [256, 256, 5]                 \n",
      " 10                  -1  1         0  torch.nn.modules.upsampling.Upsample         [None, 2, 'nearest']          \n",
      " 11             [-1, 6]  1         0  ultralytics.nn.modules.conv.Concat           [1]                           \n",
      " 12                  -1  1    148224  ultralytics.nn.modules.block.C2f             [384, 128, 1]                 \n",
      " 13                  -1  1         0  torch.nn.modules.upsampling.Upsample         [None, 2, 'nearest']          \n",
      " 14             [-1, 4]  1         0  ultralytics.nn.modules.conv.Concat           [1]                           \n",
      " 15                  -1  1     37248  ultralytics.nn.modules.block.C2f             [192, 64, 1]                  \n",
      " 16                  -1  1     36992  ultralytics.nn.modules.conv.Conv             [64, 64, 3, 2]                \n",
      " 17            [-1, 12]  1         0  ultralytics.nn.modules.conv.Concat           [1]                           \n",
      " 18                  -1  1    123648  ultralytics.nn.modules.block.C2f             [192, 128, 1]                 \n",
      " 19                  -1  1    147712  ultralytics.nn.modules.conv.Conv             [128, 128, 3, 2]              \n",
      " 20             [-1, 9]  1         0  ultralytics.nn.modules.conv.Concat           [1]                           \n",
      " 21                  -1  1    493056  ultralytics.nn.modules.block.C2f             [384, 256, 1]                 \n",
      " 22        [15, 18, 21]  1    751897  ultralytics.nn.modules.head.Detect           [3, [64, 128, 256]]           \n",
      "Model summary: 225 layers, 3011433 parameters, 3011417 gradients, 8.2 GFLOPs\n",
      "\n",
      "Transferred 319/355 items from pretrained weights\n",
      "Freezing layer 'model.22.dfl.conv.weight'\n"
     ]
    },
    {
     "name": "stderr",
     "output_type": "stream",
     "text": [
      "\u001b[34m\u001b[1mtrain: \u001b[0mScanning /Users/max/Documents/06_john_doc/3d_p/3DAnomalyDetect-main/exp/datasets/train/labels... 42 images, 2 backgrounds, 0 corrupt: 100%|██████████| 42/42 [00:00<00:00, 2042.51it/s]"
     ]
    },
    {
     "name": "stdout",
     "output_type": "stream",
     "text": [
      "\u001b[34m\u001b[1mtrain: \u001b[0mNew cache created: /Users/max/Documents/06_john_doc/3d_p/3DAnomalyDetect-main/exp/datasets/train/labels.cache\n"
     ]
    },
    {
     "name": "stderr",
     "output_type": "stream",
     "text": [
      "\n",
      "\u001b[34m\u001b[1mval: \u001b[0mScanning /Users/max/Documents/06_john_doc/3d_p/3DAnomalyDetect-main/exp/datasets/test/labels... 6 images, 0 backgrounds, 0 corrupt: 100%|██████████| 6/6 [00:00<00:00, 2494.88it/s]"
     ]
    },
    {
     "name": "stdout",
     "output_type": "stream",
     "text": [
      "\u001b[34m\u001b[1mval: \u001b[0mNew cache created: /Users/max/Documents/06_john_doc/3d_p/3DAnomalyDetect-main/exp/datasets/test/labels.cache\n"
     ]
    },
    {
     "name": "stderr",
     "output_type": "stream",
     "text": [
      "\n"
     ]
    },
    {
     "name": "stdout",
     "output_type": "stream",
     "text": [
      "Plotting labels to runs/detect/train/labels.jpg... \n",
      "\u001b[34m\u001b[1moptimizer:\u001b[0m 'optimizer=auto' found, ignoring 'lr0=0.01' and 'momentum=0.937' and determining best 'optimizer', 'lr0' and 'momentum' automatically... \n",
      "\u001b[34m\u001b[1moptimizer:\u001b[0m AdamW(lr=0.001429, momentum=0.9) with parameter groups 57 weight(decay=0.0), 64 weight(decay=0.0005), 63 bias(decay=0.0)\n",
      "Image sizes 640 train, 640 val\n",
      "Using 0 dataloader workers\n",
      "Logging results to \u001b[1mruns/detect/train\u001b[0m\n",
      "Starting training for 3 epochs...\n",
      "\n",
      "      Epoch    GPU_mem   box_loss   cls_loss   dfl_loss  Instances       Size\n"
     ]
    },
    {
     "name": "stderr",
     "output_type": "stream",
     "text": [
      "        1/3         0G      2.247      4.747      2.101         13        640: 100%|██████████| 3/3 [00:25<00:00,  8.46s/it]\n",
      "                 Class     Images  Instances      Box(P          R      mAP50  mAP50-95): 100%|██████████| 1/1 [00:01<00:00,  1.22s/it]"
     ]
    },
    {
     "name": "stdout",
     "output_type": "stream",
     "text": [
      "                   all          6          6    0.00363        0.5      0.115     0.0623\n"
     ]
    },
    {
     "name": "stderr",
     "output_type": "stream",
     "text": [
      "\n"
     ]
    },
    {
     "name": "stdout",
     "output_type": "stream",
     "text": [
      "\n",
      "      Epoch    GPU_mem   box_loss   cls_loss   dfl_loss  Instances       Size\n"
     ]
    },
    {
     "name": "stderr",
     "output_type": "stream",
     "text": [
      "        2/3         0G      1.938      4.679      1.887         14        640: 100%|██████████| 3/3 [00:23<00:00,  7.92s/it]\n",
      "                 Class     Images  Instances      Box(P          R      mAP50  mAP50-95): 100%|██████████| 1/1 [00:01<00:00,  1.08s/it]"
     ]
    },
    {
     "name": "stdout",
     "output_type": "stream",
     "text": [
      "                   all          6          6    0.00381        0.5      0.309      0.187\n"
     ]
    },
    {
     "name": "stderr",
     "output_type": "stream",
     "text": [
      "\n"
     ]
    },
    {
     "name": "stdout",
     "output_type": "stream",
     "text": [
      "\n",
      "      Epoch    GPU_mem   box_loss   cls_loss   dfl_loss  Instances       Size\n"
     ]
    },
    {
     "name": "stderr",
     "output_type": "stream",
     "text": [
      "        3/3         0G      1.816      4.571      1.802         13        640: 100%|██████████| 3/3 [00:23<00:00,  7.97s/it]\n",
      "                 Class     Images  Instances      Box(P          R      mAP50  mAP50-95): 100%|██████████| 1/1 [00:01<00:00,  1.04s/it]"
     ]
    },
    {
     "name": "stdout",
     "output_type": "stream",
     "text": [
      "                   all          6          6    0.00422        0.5      0.481      0.276\n",
      "\n",
      "3 epochs completed in 0.021 hours.\n"
     ]
    },
    {
     "name": "stderr",
     "output_type": "stream",
     "text": [
      "\n"
     ]
    },
    {
     "name": "stdout",
     "output_type": "stream",
     "text": [
      "Optimizer stripped from runs/detect/train/weights/last.pt, 6.2MB\n",
      "Optimizer stripped from runs/detect/train/weights/best.pt, 6.2MB\n",
      "\n",
      "Validating runs/detect/train/weights/best.pt...\n",
      "Ultralytics YOLOv8.2.25 🚀 Python-3.9.19 torch-2.3.0 CPU (Apple M2)\n",
      "Model summary (fused): 168 layers, 3006233 parameters, 0 gradients, 8.1 GFLOPs\n"
     ]
    },
    {
     "name": "stderr",
     "output_type": "stream",
     "text": [
      "                 Class     Images  Instances      Box(P          R      mAP50  mAP50-95): 100%|██████████| 1/1 [00:00<00:00,  1.01it/s]\n"
     ]
    },
    {
     "name": "stdout",
     "output_type": "stream",
     "text": [
      "                   all          6          6    0.00423        0.5      0.481      0.276\n",
      "                normal          6          1          0          0          0          0\n",
      "             spaghetti          6          5    0.00846          1      0.962      0.553\n",
      "Speed: 2.1ms preprocess, 146.5ms inference, 0.0ms loss, 13.7ms postprocess per image\n",
      "Results saved to \u001b[1mruns/detect/train\u001b[0m\n",
      "Ultralytics YOLOv8.2.25 🚀 Python-3.9.19 torch-2.3.0 CPU (Apple M2)\n",
      "Model summary (fused): 168 layers, 3006233 parameters, 0 gradients, 8.1 GFLOPs\n"
     ]
    },
    {
     "name": "stderr",
     "output_type": "stream",
     "text": [
      "\u001b[34m\u001b[1mval: \u001b[0mScanning /Users/max/Documents/06_john_doc/3d_p/3DAnomalyDetect-main/exp/datasets/test/labels.cache... 6 images, 0 backgrounds, 0 corrupt: 100%|██████████| 6/6 [00:00<?, ?it/s]\n",
      "                 Class     Images  Instances      Box(P          R      mAP50  mAP50-95): 100%|██████████| 1/1 [00:01<00:00,  1.11s/it]\n"
     ]
    },
    {
     "name": "stdout",
     "output_type": "stream",
     "text": [
      "                   all          6          6    0.00423        0.5      0.481      0.276\n",
      "                normal          6          1          0          0          0          0\n",
      "             spaghetti          6          5    0.00846          1      0.962      0.553\n",
      "Speed: 2.4ms preprocess, 165.0ms inference, 0.0ms loss, 13.8ms postprocess per image\n",
      "Results saved to \u001b[1mruns/detect/train2\u001b[0m\n"
     ]
    }
   ],
   "source": [
    "# Use the model\n",
    "# !yolo task=detect mode=train model=yolov8.yaml data=./datasets/mydata.yaml epochs=200 batch=16 device='cpu'\n",
    "results = model.train(data='./datasets/mydata.yaml', epochs=3)  # train the model\n",
    "results = model.val()  # evaluate model performance on the validation set\n",
    "# results = model('https://ultralytics.com/images/bus.jpg')  # predict on an image\n"
   ]
  }
 ],
 "metadata": {
  "kernelspec": {
   "display_name": "Python 3 (ipykernel)",
   "language": "python",
   "name": "python3"
  },
  "language_info": {
   "codemirror_mode": {
    "name": "ipython",
    "version": 3
   },
   "file_extension": ".py",
   "mimetype": "text/x-python",
   "name": "python",
   "nbconvert_exporter": "python",
   "pygments_lexer": "ipython3",
   "version": "3.11.7"
  }
 },
 "nbformat": 4,
 "nbformat_minor": 4
}
